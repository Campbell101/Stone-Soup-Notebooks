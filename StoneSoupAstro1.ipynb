{
 "cells": [
  {
   "cell_type": "markdown",
   "metadata": {},
   "source": [
    "# Notebook testing some Stone Soup astro routines"
   ]
  },
  {
   "cell_type": "code",
   "execution_count": 1,
   "metadata": {},
   "outputs": [],
   "source": [
    "# Import libraries\n",
    "import numpy as np\n",
    "from datetime import datetime, timedelta\n",
    "import matplotlib.pyplot as plt\n",
    "from stonesoup.types.orbitalstate import OrbitalState\n",
    "from stonesoup.models.transition.orbital.orbit import SimpleMeanMotionTransitionModel, CartesianTransitionModel"
   ]
  },
  {
   "cell_type": "code",
   "execution_count": 2,
   "metadata": {},
   "outputs": [],
   "source": [
    "# Set the initial time and increment \n",
    "time = datetime(2011, 11, 12, 13, 45, 31)  # No reason\n",
    "deltat = timedelta(seconds=60) # Propagate in discrete time at minute intervals"
   ]
  },
  {
   "cell_type": "code",
   "execution_count": 3,
   "metadata": {},
   "outputs": [],
   "source": [
    "# Initialise state vector\n",
    "# Define in 6-d Cartesian coordinates [km, km/s]\n",
    "ini_cart = np.array([[7000], [-12124], [0], [2.6679], [4.621], [0]])\n",
    "state = OrbitalState(ini_cart, coordinates=\"Cartesian\", timestamp=time)\n",
    "state.grav_parameter = 398600 # Because we're in km, rather than m"
   ]
  },
  {
   "cell_type": "code",
   "execution_count": 4,
   "metadata": {},
   "outputs": [],
   "source": [
    "# Initialise (switch between) transition model\n",
    "# propagator = SimpleMeanMotionTransitionModel()\n",
    "propagator = CartesianTransitionModel()"
   ]
  },
  {
   "cell_type": "code",
   "execution_count": 5,
   "metadata": {},
   "outputs": [],
   "source": [
    "# Initialise arrays for plotting\n",
    "all_xy = np.array([state.cartesian_state_vector[0], state.cartesian_state_vector[1]])"
   ]
  },
  {
   "cell_type": "code",
   "execution_count": 6,
   "metadata": {},
   "outputs": [],
   "source": [
    "# Run a loop - increment time, calculate state, stop after 6hrs\n",
    "while time < datetime(2011, 11, 12, 13, 45, 31) + timedelta(minutes=360):\n",
    "    state = propagator.transition(state, deltat)\n",
    "    all_xy = np.append(all_xy, np.array([state.cartesian_state_vector[0], state.cartesian_state_vector[1]]), axis=1)\n",
    "    time = time + deltat"
   ]
  },
  {
   "cell_type": "code",
   "execution_count": 7,
   "metadata": {},
   "outputs": [],
   "source": [
    "# For to plot the earth's radius\n",
    "th = np.arange(0, 2*np.pi, np.pi/100)\n",
    "xx = 6371*np.cos(th)\n",
    "yy = 6371*np.sin(th)"
   ]
  },
  {
   "cell_type": "code",
   "execution_count": 8,
   "metadata": {},
   "outputs": [
    {
     "data": {
      "image/png": "[encoded data removed]",
      "text/plain": [
       "<Figure size 432x288 with 1 Axes>"
      ]
     },
     "metadata": {
      "needs_background": "light"
     },
     "output_type": "display_data"
    }
   ],
   "source": [
    "# Plot \n",
    "plt.plot(xx,yy,color=\"blue\") # Do we miss the earth's surface?\n",
    "plt.plot(all_xy[:][0], all_xy[:][1], color=\"red\") # Just about\n",
    "plt.gcf().gca().axis('equal')\n",
    "plt.show()"
   ]
  }
 ],
 "metadata": {
  "kernelspec": {
   "display_name": "Python 3",
   "language": "python",
   "name": "python3"
  },
  "language_info": {
   "codemirror_mode": {
    "name": "ipython",
    "version": 3
   },
   "file_extension": ".py",
   "mimetype": "text/x-python",
   "name": "python",
   "nbconvert_exporter": "python",
   "pygments_lexer": "ipython3",
   "version": "3.7.3"
  }
 },
 "nbformat": 4,
 "nbformat_minor": 2
}
